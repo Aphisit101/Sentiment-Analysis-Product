{
 "cells": [
  {
   "cell_type": "code",
   "execution_count": 1,
   "metadata": {
    "colab": {
     "base_uri": "https://localhost:8080/"
    },
    "id": "fjdJseYNm9_7",
    "outputId": "e0b0bfd4-eefe-4632-ae5f-7988151aa8eb"
   },
   "outputs": [
    {
     "name": "stdout",
     "output_type": "stream",
     "text": [
      "Requirement already satisfied: pythainlp in c:\\users\\gumpun\\anaconda3\\envs\\py310\\lib\\site-packages (5.0.1)\n",
      "Requirement already satisfied: requests>=2.22.0 in c:\\users\\gumpun\\anaconda3\\envs\\py310\\lib\\site-packages (from pythainlp) (2.31.0)\n",
      "Requirement already satisfied: tzdata in c:\\users\\gumpun\\anaconda3\\envs\\py310\\lib\\site-packages (from pythainlp) (2024.1)\n",
      "Requirement already satisfied: charset-normalizer<4,>=2 in c:\\users\\gumpun\\anaconda3\\envs\\py310\\lib\\site-packages (from requests>=2.22.0->pythainlp) (3.3.2)\n",
      "Requirement already satisfied: idna<4,>=2.5 in c:\\users\\gumpun\\anaconda3\\envs\\py310\\lib\\site-packages (from requests>=2.22.0->pythainlp) (3.4)\n",
      "Requirement already satisfied: urllib3<3,>=1.21.1 in c:\\users\\gumpun\\anaconda3\\envs\\py310\\lib\\site-packages (from requests>=2.22.0->pythainlp) (2.1.0)\n",
      "Requirement already satisfied: certifi>=2017.4.17 in c:\\users\\gumpun\\anaconda3\\envs\\py310\\lib\\site-packages (from requests>=2.22.0->pythainlp) (2024.2.2)\n"
     ]
    },
    {
     "name": "stderr",
     "output_type": "stream",
     "text": [
      "WARNING: Ignoring invalid distribution -orch (c:\\users\\gumpun\\anaconda3\\envs\\py310\\lib\\site-packages)\n",
      "WARNING: Ignoring invalid distribution -orch (c:\\users\\gumpun\\anaconda3\\envs\\py310\\lib\\site-packages)\n"
     ]
    }
   ],
   "source": [
    "!pip install pythainlp"
   ]
  },
  {
   "cell_type": "code",
   "execution_count": 2,
   "metadata": {
    "id": "4woUzStTm3s2",
    "tags": []
   },
   "outputs": [
    {
     "name": "stderr",
     "output_type": "stream",
     "text": [
      "C:\\Users\\Gumpun\\AppData\\Local\\Temp\\ipykernel_15084\\4157868343.py:1: DeprecationWarning: \n",
      "Pyarrow will become a required dependency of pandas in the next major release of pandas (pandas 3.0),\n",
      "(to allow more performant data types, such as the Arrow string type, and better interoperability with other libraries)\n",
      "but was not found to be installed on your system.\n",
      "If this would cause problems for you,\n",
      "please provide us feedback at https://github.com/pandas-dev/pandas/issues/54466\n",
      "        \n",
      "  import pandas as pd\n"
     ]
    }
   ],
   "source": [
    "import pandas as pd\n",
    "from sklearn.preprocessing import LabelEncoder\n",
    "from sklearn.model_selection import train_test_split\n",
    "import numpy as np\n",
    "from sklearn.feature_extraction.text import TfidfVectorizer\n",
    "import torch\n",
    "import torch.nn as nn\n",
    "import torch.nn.functional as F\n",
    "import torch.optim as optim"
   ]
  },
  {
   "cell_type": "code",
   "execution_count": 3,
   "metadata": {
    "id": "KdDFWvLTmejq",
    "tags": []
   },
   "outputs": [],
   "source": [
    "pos_text = (\"C:/Users/Gumpun/Sentiment-Analysis-System-for-Consumer-Products/DataReviewProductThai/Positive.csv\")\n",
    "neg_text = (\"C:/Users/Gumpun/Sentiment-Analysis-System-for-Consumer-Products/DataReviewProductThai/Negative.csv\")\n",
    "neu_text = (\"C:/Users/Gumpun/Sentiment-Analysis-System-for-Consumer-Products/DataReviewProductThai/Neutrally.csv\")"
   ]
  },
  {
   "cell_type": "code",
   "execution_count": 4,
   "metadata": {
    "colab": {
     "base_uri": "https://localhost:8080/",
     "height": 423
    },
    "id": "VT1SWsBkm0PV",
    "outputId": "1d6ceb47-1deb-4597-b25b-f86b1d59c368",
    "tags": []
   },
   "outputs": [
    {
     "data": {
      "text/html": [
       "<div>\n",
       "<style scoped>\n",
       "    .dataframe tbody tr th:only-of-type {\n",
       "        vertical-align: middle;\n",
       "    }\n",
       "\n",
       "    .dataframe tbody tr th {\n",
       "        vertical-align: top;\n",
       "    }\n",
       "\n",
       "    .dataframe thead th {\n",
       "        text-align: right;\n",
       "    }\n",
       "</style>\n",
       "<table border=\"1\" class=\"dataframe\">\n",
       "  <thead>\n",
       "    <tr style=\"text-align: right;\">\n",
       "      <th></th>\n",
       "      <th>User</th>\n",
       "      <th>Message</th>\n",
       "      <th>Sentiment</th>\n",
       "    </tr>\n",
       "  </thead>\n",
       "  <tbody>\n",
       "    <tr>\n",
       "      <th>1005</th>\n",
       "      <td>กุ้ง เ.</td>\n",
       "      <td>กางเกงขาดก็ส่งมาให้น่าจะดูก่อนค่อยส่งมาแต่ถ้าถ...</td>\n",
       "      <td>Neutrally</td>\n",
       "    </tr>\n",
       "    <tr>\n",
       "      <th>6</th>\n",
       "      <td>ณัฐวรรธน์ ก.</td>\n",
       "      <td>สั่งขาสั้นได้ขายาว ไม่ตรงสเปคตามที่สั่งครับ</td>\n",
       "      <td>Negative</td>\n",
       "    </tr>\n",
       "    <tr>\n",
       "      <th>236</th>\n",
       "      <td>Smile J.</td>\n",
       "      <td>กางเกงใส่สบายๆ ไม่รู้เรียกว่าผ้าอะไร แต่กางเกง...</td>\n",
       "      <td>Neutrally</td>\n",
       "    </tr>\n",
       "    <tr>\n",
       "      <th>1170</th>\n",
       "      <td>Theerpat P.</td>\n",
       "      <td>พังเร็วมาก</td>\n",
       "      <td>Negative</td>\n",
       "    </tr>\n",
       "    <tr>\n",
       "      <th>154</th>\n",
       "      <td>ชีวาวิชช์ ฉ.</td>\n",
       "      <td>สินค้าจรงตามปก สวยงาม ถูกใจ ตัดเย็บเรียบร้อยดีมาก</td>\n",
       "      <td>Positive</td>\n",
       "    </tr>\n",
       "    <tr>\n",
       "      <th>...</th>\n",
       "      <td>...</td>\n",
       "      <td>...</td>\n",
       "      <td>...</td>\n",
       "    </tr>\n",
       "    <tr>\n",
       "      <th>912</th>\n",
       "      <td>Somchai P.</td>\n",
       "      <td>เสียงพอใช้ได้ เวลาฟังเพลง แต่เวลาพูดคุยแล้วเสี...</td>\n",
       "      <td>Neutrally</td>\n",
       "    </tr>\n",
       "    <tr>\n",
       "      <th>624</th>\n",
       "      <td>อุ๊..นะคะ.</td>\n",
       "      <td>ผ้าดีมากค่ะ</td>\n",
       "      <td>Neutrally</td>\n",
       "    </tr>\n",
       "    <tr>\n",
       "      <th>922</th>\n",
       "      <td>No N.</td>\n",
       "      <td>เนื้อผ้าสมราคาค่ะ</td>\n",
       "      <td>Neutrally</td>\n",
       "    </tr>\n",
       "    <tr>\n",
       "      <th>1407</th>\n",
       "      <td>อ***.</td>\n",
       "      <td>การจัดส่งถือว่ารวดเร็ว แก้วน้ำมีกันกระแทกก้อโอ...</td>\n",
       "      <td>Neutrally</td>\n",
       "    </tr>\n",
       "    <tr>\n",
       "      <th>494</th>\n",
       "      <td>ประภัสสร เ.</td>\n",
       "      <td>คุณภาพตามราคา</td>\n",
       "      <td>Neutrally</td>\n",
       "    </tr>\n",
       "  </tbody>\n",
       "</table>\n",
       "<p>100 rows × 3 columns</p>\n",
       "</div>"
      ],
      "text/plain": [
       "              User                                            Message  \\\n",
       "1005       กุ้ง เ.  กางเกงขาดก็ส่งมาให้น่าจะดูก่อนค่อยส่งมาแต่ถ้าถ...   \n",
       "6     ณัฐวรรธน์ ก.        สั่งขาสั้นได้ขายาว ไม่ตรงสเปคตามที่สั่งครับ   \n",
       "236       Smile J.  กางเกงใส่สบายๆ ไม่รู้เรียกว่าผ้าอะไร แต่กางเกง...   \n",
       "1170   Theerpat P.                                         พังเร็วมาก   \n",
       "154   ชีวาวิชช์ ฉ.  สินค้าจรงตามปก สวยงาม ถูกใจ ตัดเย็บเรียบร้อยดีมาก   \n",
       "...            ...                                                ...   \n",
       "912     Somchai P.  เสียงพอใช้ได้ เวลาฟังเพลง แต่เวลาพูดคุยแล้วเสี...   \n",
       "624     อุ๊..นะคะ.                                        ผ้าดีมากค่ะ   \n",
       "922          No N.                                  เนื้อผ้าสมราคาค่ะ   \n",
       "1407         อ***.  การจัดส่งถือว่ารวดเร็ว แก้วน้ำมีกันกระแทกก้อโอ...   \n",
       "494    ประภัสสร เ.                                      คุณภาพตามราคา   \n",
       "\n",
       "      Sentiment  \n",
       "1005  Neutrally  \n",
       "6      Negative  \n",
       "236   Neutrally  \n",
       "1170   Negative  \n",
       "154    Positive  \n",
       "...         ...  \n",
       "912   Neutrally  \n",
       "624   Neutrally  \n",
       "922   Neutrally  \n",
       "1407  Neutrally  \n",
       "494   Neutrally  \n",
       "\n",
       "[100 rows x 3 columns]"
      ]
     },
     "execution_count": 4,
     "metadata": {},
     "output_type": "execute_result"
    }
   ],
   "source": [
    "pos_df = pd.read_csv(pos_text, delimiter=',', encoding='utf-8').dropna()\n",
    "neg_df = pd.read_csv(neg_text, delimiter=',', encoding='utf-8').dropna()\n",
    "neu_df = pd.read_csv(neu_text, delimiter=',', encoding='utf-8').dropna()\n",
    "\n",
    "data = pd.concat([pos_df, neg_df, neu_df])\n",
    "data.sample(100)"
   ]
  },
  {
   "cell_type": "code",
   "execution_count": 5,
   "metadata": {
    "id": "CMehpAx9m1zm",
    "tags": []
   },
   "outputs": [],
   "source": [
    "from pythainlp.tokenize import word_tokenize"
   ]
  },
  {
   "cell_type": "code",
   "execution_count": 6,
   "metadata": {
    "colab": {
     "base_uri": "https://localhost:8080/",
     "height": 363
    },
    "id": "8rsjcmHRnDUN",
    "outputId": "1dd43a45-d53c-4184-ada9-4e4984a010fe",
    "tags": []
   },
   "outputs": [
    {
     "data": {
      "text/html": [
       "<div>\n",
       "<style scoped>\n",
       "    .dataframe tbody tr th:only-of-type {\n",
       "        vertical-align: middle;\n",
       "    }\n",
       "\n",
       "    .dataframe tbody tr th {\n",
       "        vertical-align: top;\n",
       "    }\n",
       "\n",
       "    .dataframe thead th {\n",
       "        text-align: right;\n",
       "    }\n",
       "</style>\n",
       "<table border=\"1\" class=\"dataframe\">\n",
       "  <thead>\n",
       "    <tr style=\"text-align: right;\">\n",
       "      <th></th>\n",
       "      <th>User</th>\n",
       "      <th>Message</th>\n",
       "      <th>Sentiment</th>\n",
       "    </tr>\n",
       "  </thead>\n",
       "  <tbody>\n",
       "    <tr>\n",
       "      <th>194</th>\n",
       "      <td>ปูแก้ว</td>\n",
       "      <td>ผ้า ที่ ยอดเี่ม สำหรับ ความ สบาย อัน สมบูรณ์  ...</td>\n",
       "      <td>Positive</td>\n",
       "    </tr>\n",
       "    <tr>\n",
       "      <th>12</th>\n",
       "      <td>apichai A.</td>\n",
       "      <td>สินค้า ตรง ตามที่ สั่ง แต่วา ยางืด ที่ เอว ดูเ...</td>\n",
       "      <td>Neutrally</td>\n",
       "    </tr>\n",
       "    <tr>\n",
       "      <th>1048</th>\n",
       "      <td>คุณรัชพล อ.</td>\n",
       "      <td>สภาพ สินค้า ตาม ราค ดู ไม่คอย แข็งร เหมือน รุ่...</td>\n",
       "      <td>Positive</td>\n",
       "    </tr>\n",
       "    <tr>\n",
       "      <th>717</th>\n",
       "      <td>0***4</td>\n",
       "      <td>คุณภาพดี สินค้า ตรง ปก ใส่ สบาย เท้า ส่ง ตรงเว...</td>\n",
       "      <td>Positive</td>\n",
       "    </tr>\n",
       "    <tr>\n",
       "      <th>255</th>\n",
       "      <td>นายพันธ์ศักดิ์กรตเรี่ยม</td>\n",
       "      <td>ส่ง เร็ว ดีแต่ ก็ ดู บอาง ไป หน่อย ครับ   เย็บ...</td>\n",
       "      <td>Neutrally</td>\n",
       "    </tr>\n",
       "    <tr>\n",
       "      <th>948</th>\n",
       "      <td>*******048</td>\n",
       "      <td>เล็ก ไป นิดห่อย</td>\n",
       "      <td>Neutrally</td>\n",
       "    </tr>\n",
       "    <tr>\n",
       "      <th>542</th>\n",
       "      <td>ธ***.</td>\n",
       "      <td>ดี   ผ้า นิ่ม   ราค ดี</td>\n",
       "      <td>Positive</td>\n",
       "    </tr>\n",
       "    <tr>\n",
       "      <th>225</th>\n",
       "      <td>8***4</td>\n",
       "      <td>เสื้อ สีัน สดใ ผ้า ค่อนข้าง บาง ใส่ เย็นสบา เน...</td>\n",
       "      <td>Positive</td>\n",
       "    </tr>\n",
       "    <tr>\n",
       "      <th>691</th>\n",
       "      <td>sirinan</td>\n",
       "      <td>จัดส่ง รวดเ็   แพ คอ ย่าง ดี   สี สวย   ตามที่...</td>\n",
       "      <td>Positive</td>\n",
       "    </tr>\n",
       "    <tr>\n",
       "      <th>1169</th>\n",
       "      <td>โสภณ​ ก.</td>\n",
       "      <td>ตัดเย็บ แย่จัง   งาน ดู ไม่ ดี   แต่ สำหรับ คน...</td>\n",
       "      <td>Neutrally</td>\n",
       "    </tr>\n",
       "  </tbody>\n",
       "</table>\n",
       "</div>"
      ],
      "text/plain": [
       "                         User  \\\n",
       "194                    ปูแก้ว   \n",
       "12                 apichai A.   \n",
       "1048              คุณรัชพล อ.   \n",
       "717                     0***4   \n",
       "255   นายพันธ์ศักดิ์กรตเรี่ยม   \n",
       "948                *******048   \n",
       "542                     ธ***.   \n",
       "225                     8***4   \n",
       "691                   sirinan   \n",
       "1169                 โสภณ​ ก.   \n",
       "\n",
       "                                                Message  Sentiment  \n",
       "194   ผ้า ที่ ยอดเี่ม สำหรับ ความ สบาย อัน สมบูรณ์  ...   Positive  \n",
       "12    สินค้า ตรง ตามที่ สั่ง แต่วา ยางืด ที่ เอว ดูเ...  Neutrally  \n",
       "1048  สภาพ สินค้า ตาม ราค ดู ไม่คอย แข็งร เหมือน รุ่...   Positive  \n",
       "717   คุณภาพดี สินค้า ตรง ปก ใส่ สบาย เท้า ส่ง ตรงเว...   Positive  \n",
       "255   ส่ง เร็ว ดีแต่ ก็ ดู บอาง ไป หน่อย ครับ   เย็บ...  Neutrally  \n",
       "948                                     เล็ก ไป นิดห่อย  Neutrally  \n",
       "542                              ดี   ผ้า นิ่ม   ราค ดี   Positive  \n",
       "225   เสื้อ สีัน สดใ ผ้า ค่อนข้าง บาง ใส่ เย็นสบา เน...   Positive  \n",
       "691   จัดส่ง รวดเ็   แพ คอ ย่าง ดี   สี สวย   ตามที่...   Positive  \n",
       "1169  ตัดเย็บ แย่จัง   งาน ดู ไม่ ดี   แต่ สำหรับ คน...  Neutrally  "
      ]
     },
     "execution_count": 6,
     "metadata": {},
     "output_type": "execute_result"
    }
   ],
   "source": [
    "# สร้างฟังก์ชันสำหรับการลบอักขระที่ซ้ำกันในแต่ละคำเท่านั้น\n",
    "def remove_duplicate_chars(text):\n",
    "    if isinstance(text, str):  # ตรวจสอบว่าข้อความไม่ใช่ NaN\n",
    "        unique_words = []\n",
    "        words = word_tokenize(text)\n",
    "        for word in words:\n",
    "            unique_word = ''\n",
    "            for char in word:\n",
    "                if char not in unique_word:\n",
    "                    unique_word += char\n",
    "            unique_words.append(unique_word)\n",
    "        return ' '.join(unique_words)\n",
    "    else:\n",
    "        return text  # ส่งค่า NaN กลับหากเป็น NaN\n",
    "\n",
    "# ใช้ฟังก์ชัน `remove_duplicate_chars` เพื่อ Tokenize และลบคำที่ซ้ำ\n",
    "data['Message'] = data['Message'].apply(remove_duplicate_chars)\n",
    "data.sample(10)"
   ]
  },
  {
   "cell_type": "code",
   "execution_count": 7,
   "metadata": {
    "colab": {
     "base_uri": "https://localhost:8080/"
    },
    "id": "ptP7yZPVnF_S",
    "outputId": "e899ffe7-3d6f-4ec1-9cd0-5d5d6484175b",
    "tags": []
   },
   "outputs": [
    {
     "name": "stdout",
     "output_type": "stream",
     "text": [
      "Encoded labels: [2 2 2 ... 1 1 1]\n",
      "Mapping of encoded labels to original labels:\n",
      "0: Negative\n",
      "1: Neutrally\n",
      "2: Positive\n"
     ]
    }
   ],
   "source": [
    "Message = data['Message'].values\n",
    "Sentiment = data['Sentiment'].values\n",
    "encoder = LabelEncoder()\n",
    "encoded_labels = encoder.fit_transform(Sentiment)\n",
    "print(\"Encoded labels:\", encoded_labels)\n",
    "print(\"Mapping of encoded labels to original labels:\")\n",
    "\n",
    "for label, original_label in enumerate(encoder.classes_):\n",
    "    print(f\"{label}: {original_label}\")"
   ]
  },
  {
   "cell_type": "code",
   "execution_count": 8,
   "metadata": {
    "id": "_JKaSsgtnVAE",
    "tags": []
   },
   "outputs": [],
   "source": [
    "# แบ่งข้อมูลเป็นชุดฝึกและชุดทดสอบ\n",
    "train_sentences, test_sentences, train_labels, test_labels = train_test_split(Message, encoded_labels, stratify=encoded_labels, test_size=0.1, random_state=42)"
   ]
  },
  {
   "cell_type": "code",
   "execution_count": 9,
   "metadata": {
    "colab": {
     "base_uri": "https://localhost:8080/"
    },
    "id": "gXXREmU1ndv5",
    "outputId": "02a25c7b-8c2d-4efa-a819-bff87cca6f7e",
    "tags": []
   },
   "outputs": [
    {
     "name": "stdout",
     "output_type": "stream",
     "text": [
      "TF-IDF train shape: torch.Size([3816, 1000])\n",
      "TF-IDF test shape: torch.Size([450, 1000])\n",
      "TF-IDF val shape: torch.Size([225, 1000])\n"
     ]
    }
   ],
   "source": [
    "#ทำส่วนของ TF-IDF\n",
    "val_size = int(len(test_sentences)/2)\n",
    "train = list(train_sentences)[:(len(train_sentences)-val_size)]\n",
    "val = list(train_sentences)[(len(train_sentences)-val_size):]\n",
    "test = list(test_sentences)\n",
    "\n",
    "tfidf_vectorizer = TfidfVectorizer(max_features=1000, dtype=np.float32)\n",
    "\n",
    "#ใช้ชุดเทรน ทำ vectorizer\n",
    "tfidfX_train = tfidf_vectorizer.fit_transform(train)\n",
    "tfidfX_train = torch.tensor(tfidfX_train.toarray())\n",
    "\n",
    "tfidfX_val = tfidf_vectorizer.transform(val)\n",
    "tfidfX_val = torch.tensor(tfidfX_val.toarray())\n",
    "\n",
    "tfidfX_test = tfidf_vectorizer.transform(test)\n",
    "tfidfX_test = torch.tensor(tfidfX_test.toarray())\n",
    "\n",
    "print(\"TF-IDF train shape:\", tfidfX_train.shape)\n",
    "print(\"TF-IDF test shape:\", tfidfX_test.shape)\n",
    "print(\"TF-IDF val shape:\", tfidfX_val.shape)"
   ]
  },
  {
   "cell_type": "code",
   "execution_count": 10,
   "metadata": {
    "colab": {
     "base_uri": "https://localhost:8080/"
    },
    "id": "VPVgeq4lnjSw",
    "outputId": "a1c35245-5345-4b01-8eb5-12cb48fe6633",
    "tags": []
   },
   "outputs": [
    {
     "name": "stdout",
     "output_type": "stream",
     "text": [
      "Y train shape: torch.Size([3816])\n",
      "Y test shape: torch.Size([225])\n",
      "Y shape: torch.Size([450])\n"
     ]
    }
   ],
   "source": [
    "#โค้ดที่ให้มาน่าจะใช้สำหรับการแปลงป้ายกำกับของชุดข้อมูลการจำแนกประเภทข้อความให้อยู่ในรูปแบบของ PyTorch\n",
    "Y_train = torch.squeeze(torch.tensor(list(train_labels[:(len(train_sentences)-val_size)])).float())\n",
    "Y_val = torch.squeeze(torch.tensor(train_labels[(len(train_sentences)-val_size):]).float())\n",
    "Y_test = torch.squeeze(torch.tensor(test_labels).float())\n",
    "\n",
    "print(\"Y train shape:\", Y_train.shape)\n",
    "print(\"Y test shape:\", Y_val.shape)\n",
    "print(\"Y shape:\", Y_test.shape)"
   ]
  },
  {
   "cell_type": "code",
   "execution_count": 11,
   "metadata": {
    "colab": {
     "base_uri": "https://localhost:8080/"
    },
    "id": "OKPMQV7SoFOx",
    "outputId": "8b79bdce-6bb2-456f-aa80-fda3b56967f7",
    "tags": []
   },
   "outputs": [
    {
     "name": "stdout",
     "output_type": "stream",
     "text": [
      "Device available for running: \n",
      "cuda\n"
     ]
    }
   ],
   "source": [
    "device = torch.device(\"cuda\" if torch.cuda.is_available() else \"cpu\")\n",
    "print(\"Device available for running: \")\n",
    "print(device)"
   ]
  },
  {
   "cell_type": "code",
   "execution_count": 12,
   "metadata": {
    "id": "Xz3ZmpVooQJq",
    "tags": []
   },
   "outputs": [],
   "source": [
    "class FFNN(nn.Module):\n",
    "    def __init__(self, input_dim, hidden_dim_1, hidden_dim_2, output_dim):\n",
    "        super(FFNN, self).__init__()\n",
    "\n",
    "        # Linear function 1\n",
    "        self.layer_1 = nn.Linear(input_dim, hidden_dim_1)\n",
    "\n",
    "        # Non-linearity 1\n",
    "        self.relu_1 = nn.ReLU()\n",
    "\n",
    "        # Linear function 2\n",
    "        self.layer_2 = nn.Linear(hidden_dim_1, hidden_dim_2)\n",
    "        # Non-linearity 2\n",
    "        self.relu_2 = nn.ReLU()\n",
    "\n",
    "        # Linear function 3\n",
    "        self.layer_3 = nn.Linear(hidden_dim_2, output_dim)\n",
    "\n",
    "    def forward(self, x):\n",
    "        out = self.layer_1(x)\n",
    "        out = self.relu_1(out)\n",
    "\n",
    "        out = self.layer_2(out)\n",
    "        out = self.relu_2(out)\n",
    "\n",
    "        out = self.layer_3(out)\n",
    "\n",
    "        return torch.sigmoid(out)"
   ]
  },
  {
   "cell_type": "code",
   "execution_count": 13,
   "metadata": {
    "colab": {
     "base_uri": "https://localhost:8080/"
    },
    "id": "BUGmuwzHoQ8l",
    "outputId": "6e482dbf-b6b4-4e4c-8fd9-a65331dc08fa",
    "tags": []
   },
   "outputs": [
    {
     "data": {
      "text/plain": [
       "FFNN(\n",
       "  (layer_1): Linear(in_features=1000, out_features=1024, bias=True)\n",
       "  (relu_1): ReLU()\n",
       "  (layer_2): Linear(in_features=1024, out_features=512, bias=True)\n",
       "  (relu_2): ReLU()\n",
       "  (layer_3): Linear(in_features=512, out_features=3, bias=True)\n",
       ")"
      ]
     },
     "execution_count": 13,
     "metadata": {},
     "output_type": "execute_result"
    }
   ],
   "source": [
    "#กำหนดและสร้างโมเดล Feedforward Neural Network\n",
    "# Define the number of classes\n",
    "num_classes = 3\n",
    "\n",
    "# Define the input and hidden dimensions\n",
    "input_dim = tfidfX_train.shape[1]\n",
    "hidden_dim_1 = 1024\n",
    "hidden_dim_2 = 512\n",
    "output_dim = num_classes\n",
    "\n",
    "# Define the model with the appropriate output dimension\n",
    "first_model = FFNN(input_dim, hidden_dim_1, hidden_dim_2, num_classes)\n",
    "\n",
    "# Define the loss function\n",
    "criterion = nn.CrossEntropyLoss().to(device)\n",
    "\n",
    "# Define the optimizer\n",
    "optimizer = optim.Adam(first_model.parameters(), lr=0.1e-4, weight_decay=1e-3)\n",
    "\n",
    "# Transfer the model to the GPU if available\n",
    "first_model.to(device)"
   ]
  },
  {
   "cell_type": "code",
   "execution_count": 14,
   "metadata": {
    "colab": {
     "base_uri": "https://localhost:8080/"
    },
    "id": "gY46xcMVolLZ",
    "outputId": "bcabb30e-212f-4950-f3d3-4620281bd952",
    "tags": []
   },
   "outputs": [
    {
     "name": "stdout",
     "output_type": "stream",
     "text": [
      "epoch 0\n"
     ]
    },
    {
     "name": "stderr",
     "output_type": "stream",
     "text": [
      "239it [00:00, 383.63it/s]\n"
     ]
    },
    {
     "name": "stdout",
     "output_type": "stream",
     "text": [
      "save best_model...\n",
      "Epoch: 0 \n",
      "Train_loss: 1.0985 Train Accuracy: 0.3305 \n",
      "Validation_loss:   1.0975 Validation Accuracy:   0.3867 \n",
      "\n",
      "epoch 1\n"
     ]
    },
    {
     "name": "stderr",
     "output_type": "stream",
     "text": [
      "239it [00:00, 501.84it/s]\n"
     ]
    },
    {
     "name": "stdout",
     "output_type": "stream",
     "text": [
      "save best_model...\n",
      "Epoch: 1 \n",
      "Train_loss: 1.0981 Train Accuracy: 0.3305 \n",
      "Validation_loss:   1.0972 Validation Accuracy:   0.3867 \n",
      "\n",
      "epoch 2\n"
     ]
    },
    {
     "name": "stderr",
     "output_type": "stream",
     "text": [
      "239it [00:00, 517.32it/s]\n"
     ]
    },
    {
     "name": "stdout",
     "output_type": "stream",
     "text": [
      "save best_model...\n",
      "Epoch: 2 \n",
      "Train_loss: 1.0977 Train Accuracy: 0.3321 \n",
      "Validation_loss:   1.0968 Validation Accuracy:   0.3911 \n",
      "\n",
      "epoch 3\n"
     ]
    },
    {
     "name": "stderr",
     "output_type": "stream",
     "text": [
      "239it [00:00, 498.95it/s]\n"
     ]
    },
    {
     "name": "stdout",
     "output_type": "stream",
     "text": [
      "save best_model...\n",
      "Epoch: 3 \n",
      "Train_loss: 1.0972 Train Accuracy: 0.3611 \n",
      "Validation_loss:   1.0962 Validation Accuracy:   0.44 \n",
      "\n",
      "epoch 4\n"
     ]
    },
    {
     "name": "stderr",
     "output_type": "stream",
     "text": [
      "239it [00:00, 482.83it/s]\n"
     ]
    },
    {
     "name": "stdout",
     "output_type": "stream",
     "text": [
      "save best_model...\n",
      "Epoch: 4 \n",
      "Train_loss: 1.0964 Train Accuracy: 0.482 \n",
      "Validation_loss:   1.0953 Validation Accuracy:   0.5778 \n",
      "\n",
      "epoch 5\n"
     ]
    },
    {
     "name": "stderr",
     "output_type": "stream",
     "text": [
      "239it [00:00, 495.85it/s]\n"
     ]
    },
    {
     "name": "stdout",
     "output_type": "stream",
     "text": [
      "save best_model...\n",
      "Epoch: 5 \n",
      "Train_loss: 1.0952 Train Accuracy: 0.6114 \n",
      "Validation_loss:   1.0938 Validation Accuracy:   0.6667 \n",
      "\n",
      "epoch 6\n"
     ]
    },
    {
     "name": "stderr",
     "output_type": "stream",
     "text": [
      "239it [00:00, 466.80it/s]\n"
     ]
    },
    {
     "name": "stdout",
     "output_type": "stream",
     "text": [
      "save best_model...\n",
      "Epoch: 6 \n",
      "Train_loss: 1.0932 Train Accuracy: 0.6525 \n",
      "Validation_loss:   1.0913 Validation Accuracy:   0.6933 \n",
      "\n",
      "epoch 7\n"
     ]
    },
    {
     "name": "stderr",
     "output_type": "stream",
     "text": [
      "239it [00:00, 519.57it/s]\n"
     ]
    },
    {
     "name": "stdout",
     "output_type": "stream",
     "text": [
      "save best_model...\n",
      "Epoch: 7 \n",
      "Train_loss: 1.0902 Train Accuracy: 0.6553 \n",
      "Validation_loss:   1.0874 Validation Accuracy:   0.72 \n",
      "\n",
      "epoch 8\n"
     ]
    },
    {
     "name": "stderr",
     "output_type": "stream",
     "text": [
      "239it [00:00, 527.60it/s]\n"
     ]
    },
    {
     "name": "stdout",
     "output_type": "stream",
     "text": [
      "save best_model...\n",
      "Epoch: 8 \n",
      "Train_loss: 1.0855 Train Accuracy: 0.6566 \n",
      "Validation_loss:   1.0814 Validation Accuracy:   0.7156 \n",
      "\n",
      "epoch 9\n"
     ]
    },
    {
     "name": "stderr",
     "output_type": "stream",
     "text": [
      "239it [00:00, 522.98it/s]\n"
     ]
    },
    {
     "name": "stdout",
     "output_type": "stream",
     "text": [
      "save best_model...\n",
      "Epoch: 9 \n",
      "Train_loss: 1.0786 Train Accuracy: 0.6498 \n",
      "Validation_loss:   1.0726 Validation Accuracy:   0.6933 \n",
      "\n",
      "epoch 10\n"
     ]
    },
    {
     "name": "stderr",
     "output_type": "stream",
     "text": [
      "239it [00:00, 524.12it/s]\n"
     ]
    },
    {
     "name": "stdout",
     "output_type": "stream",
     "text": [
      "save best_model...\n",
      "Epoch: 10 \n",
      "Train_loss: 1.0688 Train Accuracy: 0.648 \n",
      "Validation_loss:   1.0605 Validation Accuracy:   0.68 \n",
      "\n",
      "epoch 11\n"
     ]
    },
    {
     "name": "stderr",
     "output_type": "stream",
     "text": [
      "239it [00:00, 520.89it/s]\n"
     ]
    },
    {
     "name": "stdout",
     "output_type": "stream",
     "text": [
      "save best_model...\n",
      "Epoch: 11 \n",
      "Train_loss: 1.0558 Train Accuracy: 0.6362 \n",
      "Validation_loss:   1.045 Validation Accuracy:   0.6756 \n",
      "\n",
      "epoch 12\n"
     ]
    },
    {
     "name": "stderr",
     "output_type": "stream",
     "text": [
      "239it [00:00, 522.98it/s]\n"
     ]
    },
    {
     "name": "stdout",
     "output_type": "stream",
     "text": [
      "save best_model...\n",
      "Epoch: 12 \n",
      "Train_loss: 1.0401 Train Accuracy: 0.6355 \n",
      "Validation_loss:   1.027 Validation Accuracy:   0.68 \n",
      "\n",
      "epoch 13\n"
     ]
    },
    {
     "name": "stderr",
     "output_type": "stream",
     "text": [
      "239it [00:00, 526.43it/s]\n"
     ]
    },
    {
     "name": "stdout",
     "output_type": "stream",
     "text": [
      "save best_model...\n",
      "Epoch: 13 \n",
      "Train_loss: 1.0229 Train Accuracy: 0.6349 \n",
      "Validation_loss:   1.008 Validation Accuracy:   0.68 \n",
      "\n",
      "epoch 14\n"
     ]
    },
    {
     "name": "stderr",
     "output_type": "stream",
     "text": [
      "239it [00:00, 479.92it/s]\n"
     ]
    },
    {
     "name": "stdout",
     "output_type": "stream",
     "text": [
      "save best_model...\n",
      "Epoch: 14 \n",
      "Train_loss: 1.0058 Train Accuracy: 0.6328 \n",
      "Validation_loss:   0.9899 Validation Accuracy:   0.6756 \n",
      "\n",
      "epoch 15\n"
     ]
    },
    {
     "name": "stderr",
     "output_type": "stream",
     "text": [
      "239it [00:00, 482.83it/s]\n"
     ]
    },
    {
     "name": "stdout",
     "output_type": "stream",
     "text": [
      "save best_model...\n",
      "Epoch: 15 \n",
      "Train_loss: 0.9899 Train Accuracy: 0.6334 \n",
      "Validation_loss:   0.9736 Validation Accuracy:   0.68 \n",
      "\n",
      "epoch 16\n"
     ]
    },
    {
     "name": "stderr",
     "output_type": "stream",
     "text": [
      "239it [00:00, 464.98it/s]\n"
     ]
    },
    {
     "name": "stdout",
     "output_type": "stream",
     "text": [
      "save best_model...\n",
      "Epoch: 16 \n",
      "Train_loss: 0.9761 Train Accuracy: 0.6336 \n",
      "Validation_loss:   0.9597 Validation Accuracy:   0.6756 \n",
      "\n",
      "epoch 17\n"
     ]
    },
    {
     "name": "stderr",
     "output_type": "stream",
     "text": [
      "239it [00:00, 477.08it/s]\n"
     ]
    },
    {
     "name": "stdout",
     "output_type": "stream",
     "text": [
      "save best_model...\n",
      "Epoch: 17 \n",
      "Train_loss: 0.9643 Train Accuracy: 0.637 \n",
      "Validation_loss:   0.9482 Validation Accuracy:   0.6667 \n",
      "\n",
      "epoch 18\n"
     ]
    },
    {
     "name": "stderr",
     "output_type": "stream",
     "text": [
      "239it [00:00, 478.93it/s]\n"
     ]
    },
    {
     "name": "stdout",
     "output_type": "stream",
     "text": [
      "save best_model...\n",
      "Epoch: 18 \n",
      "Train_loss: 0.9545 Train Accuracy: 0.6399 \n",
      "Validation_loss:   0.9386 Validation Accuracy:   0.6622 \n",
      "\n",
      "epoch 19\n"
     ]
    },
    {
     "name": "stderr",
     "output_type": "stream",
     "text": [
      "239it [00:00, 475.15it/s]\n"
     ]
    },
    {
     "name": "stdout",
     "output_type": "stream",
     "text": [
      "save best_model...\n",
      "Epoch: 19 \n",
      "Train_loss: 0.9463 Train Accuracy: 0.6462 \n",
      "Validation_loss:   0.9307 Validation Accuracy:   0.6578 \n",
      "\n",
      "epoch 20\n"
     ]
    },
    {
     "name": "stderr",
     "output_type": "stream",
     "text": [
      "239it [00:00, 426.79it/s]\n"
     ]
    },
    {
     "name": "stdout",
     "output_type": "stream",
     "text": [
      "save best_model...\n",
      "Epoch: 20 \n",
      "Train_loss: 0.9393 Train Accuracy: 0.6491 \n",
      "Validation_loss:   0.9242 Validation Accuracy:   0.6533 \n",
      "\n",
      "epoch 21\n"
     ]
    },
    {
     "name": "stderr",
     "output_type": "stream",
     "text": [
      "239it [00:00, 458.92it/s]\n"
     ]
    },
    {
     "name": "stdout",
     "output_type": "stream",
     "text": [
      "save best_model...\n",
      "Epoch: 21 \n",
      "Train_loss: 0.9335 Train Accuracy: 0.6527 \n",
      "Validation_loss:   0.9187 Validation Accuracy:   0.6533 \n",
      "\n",
      "epoch 22\n"
     ]
    },
    {
     "name": "stderr",
     "output_type": "stream",
     "text": [
      "239it [00:00, 469.02it/s]\n"
     ]
    },
    {
     "name": "stdout",
     "output_type": "stream",
     "text": [
      "save best_model...\n",
      "Epoch: 22 \n",
      "Train_loss: 0.9284 Train Accuracy: 0.6548 \n",
      "Validation_loss:   0.9141 Validation Accuracy:   0.6533 \n",
      "\n",
      "epoch 23\n"
     ]
    },
    {
     "name": "stderr",
     "output_type": "stream",
     "text": [
      "239it [00:00, 446.63it/s]\n"
     ]
    },
    {
     "name": "stdout",
     "output_type": "stream",
     "text": [
      "save best_model...\n",
      "Epoch: 23 \n",
      "Train_loss: 0.924 Train Accuracy: 0.6611 \n",
      "Validation_loss:   0.9102 Validation Accuracy:   0.6533 \n",
      "\n",
      "epoch 24\n"
     ]
    },
    {
     "name": "stderr",
     "output_type": "stream",
     "text": [
      "239it [00:00, 450.97it/s]\n"
     ]
    },
    {
     "name": "stdout",
     "output_type": "stream",
     "text": [
      "save best_model...\n",
      "Epoch: 24 \n",
      "Train_loss: 0.9201 Train Accuracy: 0.6634 \n",
      "Validation_loss:   0.9067 Validation Accuracy:   0.6444 \n",
      "\n",
      "epoch 25\n"
     ]
    },
    {
     "name": "stderr",
     "output_type": "stream",
     "text": [
      "239it [00:00, 444.26it/s]\n"
     ]
    },
    {
     "name": "stdout",
     "output_type": "stream",
     "text": [
      "save best_model...\n",
      "Epoch: 25 \n",
      "Train_loss: 0.9166 Train Accuracy: 0.6661 \n",
      "Validation_loss:   0.9037 Validation Accuracy:   0.6444 \n",
      "\n",
      "epoch 26\n"
     ]
    },
    {
     "name": "stderr",
     "output_type": "stream",
     "text": [
      "239it [00:00, 445.04it/s]\n"
     ]
    },
    {
     "name": "stdout",
     "output_type": "stream",
     "text": [
      "save best_model...\n",
      "Epoch: 26 \n",
      "Train_loss: 0.9135 Train Accuracy: 0.67 \n",
      "Validation_loss:   0.901 Validation Accuracy:   0.6622 \n",
      "\n",
      "epoch 27\n"
     ]
    },
    {
     "name": "stderr",
     "output_type": "stream",
     "text": [
      "239it [00:00, 472.36it/s]\n"
     ]
    },
    {
     "name": "stdout",
     "output_type": "stream",
     "text": [
      "save best_model...\n",
      "Epoch: 27 \n",
      "Train_loss: 0.9106 Train Accuracy: 0.6734 \n",
      "Validation_loss:   0.8985 Validation Accuracy:   0.6711 \n",
      "\n",
      "epoch 28\n"
     ]
    },
    {
     "name": "stderr",
     "output_type": "stream",
     "text": [
      "239it [00:00, 471.37it/s]\n"
     ]
    },
    {
     "name": "stdout",
     "output_type": "stream",
     "text": [
      "save best_model...\n",
      "Epoch: 28 \n",
      "Train_loss: 0.9078 Train Accuracy: 0.6773 \n",
      "Validation_loss:   0.8963 Validation Accuracy:   0.68 \n",
      "\n",
      "epoch 29\n"
     ]
    },
    {
     "name": "stderr",
     "output_type": "stream",
     "text": [
      "239it [00:00, 467.74it/s]\n"
     ]
    },
    {
     "name": "stdout",
     "output_type": "stream",
     "text": [
      "save best_model...\n",
      "Epoch: 29 \n",
      "Train_loss: 0.9053 Train Accuracy: 0.6812 \n",
      "Validation_loss:   0.8942 Validation Accuracy:   0.6756 \n",
      "\n",
      "epoch 30\n"
     ]
    },
    {
     "name": "stderr",
     "output_type": "stream",
     "text": [
      "239it [00:00, 468.63it/s]\n"
     ]
    },
    {
     "name": "stdout",
     "output_type": "stream",
     "text": [
      "save best_model...\n",
      "Epoch: 30 \n",
      "Train_loss: 0.9029 Train Accuracy: 0.6854 \n",
      "Validation_loss:   0.8922 Validation Accuracy:   0.6756 \n",
      "\n",
      "epoch 31\n"
     ]
    },
    {
     "name": "stderr",
     "output_type": "stream",
     "text": [
      "239it [00:00, 451.80it/s]\n"
     ]
    },
    {
     "name": "stdout",
     "output_type": "stream",
     "text": [
      "save best_model...\n",
      "Epoch: 31 \n",
      "Train_loss: 0.9006 Train Accuracy: 0.688 \n",
      "Validation_loss:   0.8903 Validation Accuracy:   0.68 \n",
      "\n",
      "epoch 32\n"
     ]
    },
    {
     "name": "stderr",
     "output_type": "stream",
     "text": [
      "239it [00:00, 445.90it/s]\n"
     ]
    },
    {
     "name": "stdout",
     "output_type": "stream",
     "text": [
      "save best_model...\n",
      "Epoch: 32 \n",
      "Train_loss: 0.8983 Train Accuracy: 0.6906 \n",
      "Validation_loss:   0.8885 Validation Accuracy:   0.68 \n",
      "\n",
      "epoch 33\n"
     ]
    },
    {
     "name": "stderr",
     "output_type": "stream",
     "text": [
      "239it [00:00, 449.12it/s]\n"
     ]
    },
    {
     "name": "stdout",
     "output_type": "stream",
     "text": [
      "save best_model...\n",
      "Epoch: 33 \n",
      "Train_loss: 0.8961 Train Accuracy: 0.6922 \n",
      "Validation_loss:   0.8867 Validation Accuracy:   0.6756 \n",
      "\n",
      "epoch 34\n"
     ]
    },
    {
     "name": "stderr",
     "output_type": "stream",
     "text": [
      "239it [00:00, 440.15it/s]\n"
     ]
    },
    {
     "name": "stdout",
     "output_type": "stream",
     "text": [
      "save best_model...\n",
      "Epoch: 34 \n",
      "Train_loss: 0.894 Train Accuracy: 0.694 \n",
      "Validation_loss:   0.8849 Validation Accuracy:   0.68 \n",
      "\n",
      "epoch 35\n"
     ]
    },
    {
     "name": "stderr",
     "output_type": "stream",
     "text": [
      "239it [00:00, 409.93it/s]\n"
     ]
    },
    {
     "name": "stdout",
     "output_type": "stream",
     "text": [
      "save best_model...\n",
      "Epoch: 35 \n",
      "Train_loss: 0.8918 Train Accuracy: 0.6956 \n",
      "Validation_loss:   0.8832 Validation Accuracy:   0.6889 \n",
      "\n",
      "epoch 36\n"
     ]
    },
    {
     "name": "stderr",
     "output_type": "stream",
     "text": [
      "239it [00:00, 407.87it/s]\n"
     ]
    },
    {
     "name": "stdout",
     "output_type": "stream",
     "text": [
      "save best_model...\n",
      "Epoch: 36 \n",
      "Train_loss: 0.8897 Train Accuracy: 0.6998 \n",
      "Validation_loss:   0.8814 Validation Accuracy:   0.6889 \n",
      "\n",
      "epoch 37\n"
     ]
    },
    {
     "name": "stderr",
     "output_type": "stream",
     "text": [
      "239it [00:00, 442.57it/s]\n"
     ]
    },
    {
     "name": "stdout",
     "output_type": "stream",
     "text": [
      "save best_model...\n",
      "Epoch: 37 \n",
      "Train_loss: 0.8875 Train Accuracy: 0.7011 \n",
      "Validation_loss:   0.8796 Validation Accuracy:   0.6933 \n",
      "\n",
      "epoch 38\n"
     ]
    },
    {
     "name": "stderr",
     "output_type": "stream",
     "text": [
      "239it [00:00, 449.22it/s]\n"
     ]
    },
    {
     "name": "stdout",
     "output_type": "stream",
     "text": [
      "save best_model...\n",
      "Epoch: 38 \n",
      "Train_loss: 0.8854 Train Accuracy: 0.705 \n",
      "Validation_loss:   0.8778 Validation Accuracy:   0.6978 \n",
      "\n",
      "epoch 39\n"
     ]
    },
    {
     "name": "stderr",
     "output_type": "stream",
     "text": [
      "239it [00:00, 463.59it/s]\n"
     ]
    },
    {
     "name": "stdout",
     "output_type": "stream",
     "text": [
      "save best_model...\n",
      "Epoch: 39 \n",
      "Train_loss: 0.8832 Train Accuracy: 0.7084 \n",
      "Validation_loss:   0.876 Validation Accuracy:   0.7022 \n",
      "\n",
      "epoch 40\n"
     ]
    },
    {
     "name": "stderr",
     "output_type": "stream",
     "text": [
      "239it [00:00, 457.85it/s]\n"
     ]
    },
    {
     "name": "stdout",
     "output_type": "stream",
     "text": [
      "save best_model...\n",
      "Epoch: 40 \n",
      "Train_loss: 0.881 Train Accuracy: 0.711 \n",
      "Validation_loss:   0.8741 Validation Accuracy:   0.7067 \n",
      "\n",
      "epoch 41\n"
     ]
    },
    {
     "name": "stderr",
     "output_type": "stream",
     "text": [
      "239it [00:00, 463.22it/s]\n"
     ]
    },
    {
     "name": "stdout",
     "output_type": "stream",
     "text": [
      "save best_model...\n",
      "Epoch: 41 \n",
      "Train_loss: 0.8788 Train Accuracy: 0.7123 \n",
      "Validation_loss:   0.8722 Validation Accuracy:   0.7111 \n",
      "\n",
      "epoch 42\n"
     ]
    },
    {
     "name": "stderr",
     "output_type": "stream",
     "text": [
      "239it [00:00, 436.13it/s]\n"
     ]
    },
    {
     "name": "stdout",
     "output_type": "stream",
     "text": [
      "save best_model...\n",
      "Epoch: 42 \n",
      "Train_loss: 0.8766 Train Accuracy: 0.7123 \n",
      "Validation_loss:   0.8703 Validation Accuracy:   0.7022 \n",
      "\n",
      "epoch 43\n"
     ]
    },
    {
     "name": "stderr",
     "output_type": "stream",
     "text": [
      "239it [00:00, 373.11it/s]\n"
     ]
    },
    {
     "name": "stdout",
     "output_type": "stream",
     "text": [
      "save best_model...\n",
      "Epoch: 43 \n",
      "Train_loss: 0.8743 Train Accuracy: 0.7155 \n",
      "Validation_loss:   0.8684 Validation Accuracy:   0.7067 \n",
      "\n",
      "epoch 44\n"
     ]
    },
    {
     "name": "stderr",
     "output_type": "stream",
     "text": [
      "239it [00:00, 419.30it/s]\n"
     ]
    },
    {
     "name": "stdout",
     "output_type": "stream",
     "text": [
      "save best_model...\n",
      "Epoch: 44 \n",
      "Train_loss: 0.872 Train Accuracy: 0.7189 \n",
      "Validation_loss:   0.8664 Validation Accuracy:   0.7111 \n",
      "\n",
      "epoch 45\n"
     ]
    },
    {
     "name": "stderr",
     "output_type": "stream",
     "text": [
      "239it [00:00, 428.19it/s]\n"
     ]
    },
    {
     "name": "stdout",
     "output_type": "stream",
     "text": [
      "save best_model...\n",
      "Epoch: 45 \n",
      "Train_loss: 0.8698 Train Accuracy: 0.7218 \n",
      "Validation_loss:   0.8644 Validation Accuracy:   0.7156 \n",
      "\n",
      "epoch 46\n"
     ]
    },
    {
     "name": "stderr",
     "output_type": "stream",
     "text": [
      "239it [00:00, 456.98it/s]\n"
     ]
    },
    {
     "name": "stdout",
     "output_type": "stream",
     "text": [
      "save best_model...\n",
      "Epoch: 46 \n",
      "Train_loss: 0.8675 Train Accuracy: 0.7225 \n",
      "Validation_loss:   0.8625 Validation Accuracy:   0.7289 \n",
      "\n",
      "epoch 47\n"
     ]
    },
    {
     "name": "stderr",
     "output_type": "stream",
     "text": [
      "239it [00:00, 401.68it/s]\n"
     ]
    },
    {
     "name": "stdout",
     "output_type": "stream",
     "text": [
      "save best_model...\n",
      "Epoch: 47 \n",
      "Train_loss: 0.8652 Train Accuracy: 0.7238 \n",
      "Validation_loss:   0.8605 Validation Accuracy:   0.7289 \n",
      "\n",
      "epoch 48\n"
     ]
    },
    {
     "name": "stderr",
     "output_type": "stream",
     "text": [
      "239it [00:00, 408.55it/s]\n"
     ]
    },
    {
     "name": "stdout",
     "output_type": "stream",
     "text": [
      "save best_model...\n",
      "Epoch: 48 \n",
      "Train_loss: 0.863 Train Accuracy: 0.7254 \n",
      "Validation_loss:   0.8586 Validation Accuracy:   0.7289 \n",
      "\n",
      "epoch 49\n"
     ]
    },
    {
     "name": "stderr",
     "output_type": "stream",
     "text": [
      "239it [00:00, 429.08it/s]\n"
     ]
    },
    {
     "name": "stdout",
     "output_type": "stream",
     "text": [
      "save best_model...\n",
      "Epoch: 49 \n",
      "Train_loss: 0.8608 Train Accuracy: 0.728 \n",
      "Validation_loss:   0.8567 Validation Accuracy:   0.7333 \n",
      "\n",
      "epoch 50\n"
     ]
    },
    {
     "name": "stderr",
     "output_type": "stream",
     "text": [
      "239it [00:00, 444.24it/s]\n"
     ]
    },
    {
     "name": "stdout",
     "output_type": "stream",
     "text": [
      "save best_model...\n",
      "Epoch: 50 \n",
      "Train_loss: 0.8586 Train Accuracy: 0.7278 \n",
      "Validation_loss:   0.8549 Validation Accuracy:   0.7333 \n",
      "\n",
      "epoch 51\n"
     ]
    },
    {
     "name": "stderr",
     "output_type": "stream",
     "text": [
      "239it [00:00, 431.41it/s]\n"
     ]
    },
    {
     "name": "stdout",
     "output_type": "stream",
     "text": [
      "save best_model...\n",
      "Epoch: 51 \n",
      "Train_loss: 0.8565 Train Accuracy: 0.7299 \n",
      "Validation_loss:   0.8531 Validation Accuracy:   0.7333 \n",
      "\n",
      "epoch 52\n"
     ]
    },
    {
     "name": "stderr",
     "output_type": "stream",
     "text": [
      "239it [00:00, 459.61it/s]\n"
     ]
    },
    {
     "name": "stdout",
     "output_type": "stream",
     "text": [
      "save best_model...\n",
      "Epoch: 52 \n",
      "Train_loss: 0.8544 Train Accuracy: 0.7299 \n",
      "Validation_loss:   0.8514 Validation Accuracy:   0.7333 \n",
      "\n",
      "epoch 53\n"
     ]
    },
    {
     "name": "stderr",
     "output_type": "stream",
     "text": [
      "239it [00:00, 446.73it/s]\n"
     ]
    },
    {
     "name": "stdout",
     "output_type": "stream",
     "text": [
      "save best_model...\n",
      "Epoch: 53 \n",
      "Train_loss: 0.8524 Train Accuracy: 0.7314 \n",
      "Validation_loss:   0.8498 Validation Accuracy:   0.7333 \n",
      "\n",
      "epoch 54\n"
     ]
    },
    {
     "name": "stderr",
     "output_type": "stream",
     "text": [
      "239it [00:00, 445.07it/s]\n"
     ]
    },
    {
     "name": "stdout",
     "output_type": "stream",
     "text": [
      "save best_model...\n",
      "Epoch: 54 \n",
      "Train_loss: 0.8505 Train Accuracy: 0.732 \n",
      "Validation_loss:   0.8482 Validation Accuracy:   0.7333 \n",
      "\n",
      "epoch 55\n"
     ]
    },
    {
     "name": "stderr",
     "output_type": "stream",
     "text": [
      "239it [00:00, 456.11it/s]\n"
     ]
    },
    {
     "name": "stdout",
     "output_type": "stream",
     "text": [
      "save best_model...\n",
      "Epoch: 55 \n",
      "Train_loss: 0.8486 Train Accuracy: 0.7338 \n",
      "Validation_loss:   0.8467 Validation Accuracy:   0.7333 \n",
      "\n",
      "epoch 56\n"
     ]
    },
    {
     "name": "stderr",
     "output_type": "stream",
     "text": [
      "239it [00:00, 458.73it/s]\n"
     ]
    },
    {
     "name": "stdout",
     "output_type": "stream",
     "text": [
      "save best_model...\n",
      "Epoch: 56 \n",
      "Train_loss: 0.8468 Train Accuracy: 0.7338 \n",
      "Validation_loss:   0.8453 Validation Accuracy:   0.7333 \n",
      "\n",
      "epoch 57\n"
     ]
    },
    {
     "name": "stderr",
     "output_type": "stream",
     "text": [
      "239it [00:00, 463.18it/s]\n"
     ]
    },
    {
     "name": "stdout",
     "output_type": "stream",
     "text": [
      "save best_model...\n",
      "Epoch: 57 \n",
      "Train_loss: 0.845 Train Accuracy: 0.7356 \n",
      "Validation_loss:   0.844 Validation Accuracy:   0.7333 \n",
      "\n",
      "epoch 58\n"
     ]
    },
    {
     "name": "stderr",
     "output_type": "stream",
     "text": [
      "239it [00:00, 456.11it/s]\n"
     ]
    },
    {
     "name": "stdout",
     "output_type": "stream",
     "text": [
      "save best_model...\n",
      "Epoch: 58 \n",
      "Train_loss: 0.8433 Train Accuracy: 0.7361 \n",
      "Validation_loss:   0.8427 Validation Accuracy:   0.7333 \n",
      "\n",
      "epoch 59\n"
     ]
    },
    {
     "name": "stderr",
     "output_type": "stream",
     "text": [
      "239it [00:00, 458.73it/s]\n"
     ]
    },
    {
     "name": "stdout",
     "output_type": "stream",
     "text": [
      "save best_model...\n",
      "Epoch: 59 \n",
      "Train_loss: 0.8417 Train Accuracy: 0.7369 \n",
      "Validation_loss:   0.8415 Validation Accuracy:   0.7378 \n",
      "\n",
      "epoch 60\n"
     ]
    },
    {
     "name": "stderr",
     "output_type": "stream",
     "text": [
      "239it [00:00, 445.90it/s]\n"
     ]
    },
    {
     "name": "stdout",
     "output_type": "stream",
     "text": [
      "save best_model...\n",
      "Epoch: 60 \n",
      "Train_loss: 0.8401 Train Accuracy: 0.738 \n",
      "Validation_loss:   0.8403 Validation Accuracy:   0.7333 \n",
      "\n",
      "epoch 61\n"
     ]
    },
    {
     "name": "stderr",
     "output_type": "stream",
     "text": [
      "239it [00:00, 453.51it/s]\n"
     ]
    },
    {
     "name": "stdout",
     "output_type": "stream",
     "text": [
      "save best_model...\n",
      "Epoch: 61 \n",
      "Train_loss: 0.8386 Train Accuracy: 0.739 \n",
      "Validation_loss:   0.8393 Validation Accuracy:   0.7333 \n",
      "\n",
      "epoch 62\n"
     ]
    },
    {
     "name": "stderr",
     "output_type": "stream",
     "text": [
      "239it [00:00, 416.38it/s]\n"
     ]
    },
    {
     "name": "stdout",
     "output_type": "stream",
     "text": [
      "save best_model...\n",
      "Epoch: 62 \n",
      "Train_loss: 0.8371 Train Accuracy: 0.7393 \n",
      "Validation_loss:   0.8382 Validation Accuracy:   0.7289 \n",
      "\n",
      "epoch 63\n"
     ]
    },
    {
     "name": "stderr",
     "output_type": "stream",
     "text": [
      "239it [00:00, 490.76it/s]\n"
     ]
    },
    {
     "name": "stdout",
     "output_type": "stream",
     "text": [
      "save best_model...\n",
      "Epoch: 63 \n",
      "Train_loss: 0.8357 Train Accuracy: 0.7406 \n",
      "Validation_loss:   0.8373 Validation Accuracy:   0.7289 \n",
      "\n",
      "epoch 64\n"
     ]
    },
    {
     "name": "stderr",
     "output_type": "stream",
     "text": [
      "239it [00:00, 486.76it/s]\n"
     ]
    },
    {
     "name": "stdout",
     "output_type": "stream",
     "text": [
      "save best_model...\n",
      "Epoch: 64 \n",
      "Train_loss: 0.8344 Train Accuracy: 0.7416 \n",
      "Validation_loss:   0.8364 Validation Accuracy:   0.7289 \n",
      "\n",
      "epoch 65\n"
     ]
    },
    {
     "name": "stderr",
     "output_type": "stream",
     "text": [
      "239it [00:00, 487.76it/s]\n"
     ]
    },
    {
     "name": "stdout",
     "output_type": "stream",
     "text": [
      "save best_model...\n",
      "Epoch: 65 \n",
      "Train_loss: 0.8331 Train Accuracy: 0.7427 \n",
      "Validation_loss:   0.8355 Validation Accuracy:   0.7333 \n",
      "\n",
      "epoch 66\n"
     ]
    },
    {
     "name": "stderr",
     "output_type": "stream",
     "text": [
      "239it [00:00, 490.76it/s]\n"
     ]
    },
    {
     "name": "stdout",
     "output_type": "stream",
     "text": [
      "save best_model...\n",
      "Epoch: 66 \n",
      "Train_loss: 0.8318 Train Accuracy: 0.7435 \n",
      "Validation_loss:   0.8347 Validation Accuracy:   0.7333 \n",
      "\n",
      "epoch 67\n"
     ]
    },
    {
     "name": "stderr",
     "output_type": "stream",
     "text": [
      "239it [00:00, 495.85it/s]\n"
     ]
    },
    {
     "name": "stdout",
     "output_type": "stream",
     "text": [
      "save best_model...\n",
      "Epoch: 67 \n",
      "Train_loss: 0.8306 Train Accuracy: 0.7445 \n",
      "Validation_loss:   0.8339 Validation Accuracy:   0.7289 \n",
      "\n",
      "epoch 68\n"
     ]
    },
    {
     "name": "stderr",
     "output_type": "stream",
     "text": [
      "239it [00:00, 466.80it/s]\n"
     ]
    },
    {
     "name": "stdout",
     "output_type": "stream",
     "text": [
      "save best_model...\n",
      "Epoch: 68 \n",
      "Train_loss: 0.8294 Train Accuracy: 0.7463 \n",
      "Validation_loss:   0.8331 Validation Accuracy:   0.7289 \n",
      "\n",
      "epoch 69\n"
     ]
    },
    {
     "name": "stderr",
     "output_type": "stream",
     "text": [
      "239it [00:00, 463.18it/s]\n"
     ]
    },
    {
     "name": "stdout",
     "output_type": "stream",
     "text": [
      "save best_model...\n",
      "Epoch: 69 \n",
      "Train_loss: 0.8282 Train Accuracy: 0.7466 \n",
      "Validation_loss:   0.8324 Validation Accuracy:   0.7289 \n",
      "\n",
      "epoch 70\n"
     ]
    },
    {
     "name": "stderr",
     "output_type": "stream",
     "text": [
      "239it [00:00, 476.10it/s]\n"
     ]
    },
    {
     "name": "stdout",
     "output_type": "stream",
     "text": [
      "save best_model...\n",
      "Epoch: 70 \n",
      "Train_loss: 0.8271 Train Accuracy: 0.7471 \n",
      "Validation_loss:   0.8318 Validation Accuracy:   0.7289 \n",
      "\n",
      "epoch 71\n"
     ]
    },
    {
     "name": "stderr",
     "output_type": "stream",
     "text": [
      "239it [00:00, 472.33it/s]\n"
     ]
    },
    {
     "name": "stdout",
     "output_type": "stream",
     "text": [
      "save best_model...\n",
      "Epoch: 71 \n",
      "Train_loss: 0.8261 Train Accuracy: 0.7492 \n",
      "Validation_loss:   0.8311 Validation Accuracy:   0.7289 \n",
      "\n",
      "epoch 72\n"
     ]
    },
    {
     "name": "stderr",
     "output_type": "stream",
     "text": [
      "239it [00:00, 479.92it/s]\n"
     ]
    },
    {
     "name": "stdout",
     "output_type": "stream",
     "text": [
      "save best_model...\n",
      "Epoch: 72 \n",
      "Train_loss: 0.825 Train Accuracy: 0.7505 \n",
      "Validation_loss:   0.8305 Validation Accuracy:   0.7289 \n",
      "\n",
      "epoch 73\n"
     ]
    },
    {
     "name": "stderr",
     "output_type": "stream",
     "text": [
      "239it [00:00, 475.15it/s]\n"
     ]
    },
    {
     "name": "stdout",
     "output_type": "stream",
     "text": [
      "save best_model...\n",
      "Epoch: 73 \n",
      "Train_loss: 0.824 Train Accuracy: 0.7513 \n",
      "Validation_loss:   0.83 Validation Accuracy:   0.7333 \n",
      "\n",
      "epoch 74\n"
     ]
    },
    {
     "name": "stderr",
     "output_type": "stream",
     "text": [
      "239it [00:00, 473.27it/s]\n"
     ]
    },
    {
     "name": "stdout",
     "output_type": "stream",
     "text": [
      "save best_model...\n",
      "Epoch: 74 \n",
      "Train_loss: 0.823 Train Accuracy: 0.7518 \n",
      "Validation_loss:   0.8294 Validation Accuracy:   0.7333 \n",
      "\n",
      "epoch 75\n"
     ]
    },
    {
     "name": "stderr",
     "output_type": "stream",
     "text": [
      "239it [00:00, 458.73it/s]\n"
     ]
    },
    {
     "name": "stdout",
     "output_type": "stream",
     "text": [
      "save best_model...\n",
      "Epoch: 75 \n",
      "Train_loss: 0.8221 Train Accuracy: 0.7531 \n",
      "Validation_loss:   0.8289 Validation Accuracy:   0.7378 \n",
      "\n",
      "epoch 76\n"
     ]
    },
    {
     "name": "stderr",
     "output_type": "stream",
     "text": [
      "239it [00:00, 463.18it/s]\n"
     ]
    },
    {
     "name": "stdout",
     "output_type": "stream",
     "text": [
      "save best_model...\n",
      "Epoch: 76 \n",
      "Train_loss: 0.8212 Train Accuracy: 0.7537 \n",
      "Validation_loss:   0.8284 Validation Accuracy:   0.7422 \n",
      "\n",
      "epoch 77\n"
     ]
    },
    {
     "name": "stderr",
     "output_type": "stream",
     "text": [
      "239it [00:00, 460.50it/s]\n"
     ]
    },
    {
     "name": "stdout",
     "output_type": "stream",
     "text": [
      "save best_model...\n",
      "Epoch: 77 \n",
      "Train_loss: 0.8203 Train Accuracy: 0.7552 \n",
      "Validation_loss:   0.828 Validation Accuracy:   0.7422 \n",
      "\n",
      "epoch 78\n"
     ]
    },
    {
     "name": "stderr",
     "output_type": "stream",
     "text": [
      "239it [00:00, 463.18it/s]\n"
     ]
    },
    {
     "name": "stdout",
     "output_type": "stream",
     "text": [
      "save best_model...\n",
      "Epoch: 78 \n",
      "Train_loss: 0.8194 Train Accuracy: 0.7555 \n",
      "Validation_loss:   0.8275 Validation Accuracy:   0.7422 \n",
      "\n",
      "epoch 79\n"
     ]
    },
    {
     "name": "stderr",
     "output_type": "stream",
     "text": [
      "239it [00:00, 464.08it/s]\n"
     ]
    },
    {
     "name": "stdout",
     "output_type": "stream",
     "text": [
      "save best_model...\n",
      "Epoch: 79 \n",
      "Train_loss: 0.8185 Train Accuracy: 0.7571 \n",
      "Validation_loss:   0.8271 Validation Accuracy:   0.7378 \n",
      "\n",
      "epoch 80\n"
     ]
    },
    {
     "name": "stderr",
     "output_type": "stream",
     "text": [
      "239it [00:00, 457.85it/s]\n"
     ]
    },
    {
     "name": "stdout",
     "output_type": "stream",
     "text": [
      "save best_model...\n",
      "Epoch: 80 \n",
      "Train_loss: 0.8177 Train Accuracy: 0.7578 \n",
      "Validation_loss:   0.8267 Validation Accuracy:   0.7378 \n",
      "\n",
      "epoch 81\n"
     ]
    },
    {
     "name": "stderr",
     "output_type": "stream",
     "text": [
      "239it [00:00, 450.60it/s]\n"
     ]
    },
    {
     "name": "stdout",
     "output_type": "stream",
     "text": [
      "save best_model...\n",
      "Epoch: 81 \n",
      "Train_loss: 0.8169 Train Accuracy: 0.7594 \n",
      "Validation_loss:   0.8263 Validation Accuracy:   0.7333 \n",
      "\n",
      "epoch 82\n"
     ]
    },
    {
     "name": "stderr",
     "output_type": "stream",
     "text": [
      "239it [00:00, 462.28it/s]\n"
     ]
    },
    {
     "name": "stdout",
     "output_type": "stream",
     "text": [
      "save best_model...\n",
      "Epoch: 82 \n",
      "Train_loss: 0.8161 Train Accuracy: 0.7594 \n",
      "Validation_loss:   0.8259 Validation Accuracy:   0.7289 \n",
      "\n",
      "epoch 83\n"
     ]
    },
    {
     "name": "stderr",
     "output_type": "stream",
     "text": [
      "239it [00:00, 451.36it/s]\n"
     ]
    },
    {
     "name": "stdout",
     "output_type": "stream",
     "text": [
      "save best_model...\n",
      "Epoch: 83 \n",
      "Train_loss: 0.8154 Train Accuracy: 0.7584 \n",
      "Validation_loss:   0.8256 Validation Accuracy:   0.7289 \n",
      "\n",
      "epoch 84\n"
     ]
    },
    {
     "name": "stderr",
     "output_type": "stream",
     "text": [
      "239it [00:00, 457.86it/s]\n"
     ]
    },
    {
     "name": "stdout",
     "output_type": "stream",
     "text": [
      "save best_model...\n",
      "Epoch: 84 \n",
      "Train_loss: 0.8146 Train Accuracy: 0.7594 \n",
      "Validation_loss:   0.8252 Validation Accuracy:   0.7289 \n",
      "\n",
      "epoch 85\n"
     ]
    },
    {
     "name": "stderr",
     "output_type": "stream",
     "text": [
      "239it [00:00, 445.90it/s]\n"
     ]
    },
    {
     "name": "stdout",
     "output_type": "stream",
     "text": [
      "save best_model...\n",
      "Epoch: 85 \n",
      "Train_loss: 0.8139 Train Accuracy: 0.7597 \n",
      "Validation_loss:   0.8249 Validation Accuracy:   0.7289 \n",
      "\n",
      "epoch 86\n"
     ]
    },
    {
     "name": "stderr",
     "output_type": "stream",
     "text": [
      "239it [00:00, 452.65it/s]\n"
     ]
    },
    {
     "name": "stdout",
     "output_type": "stream",
     "text": [
      "save best_model...\n",
      "Epoch: 86 \n",
      "Train_loss: 0.8132 Train Accuracy: 0.7605 \n",
      "Validation_loss:   0.8246 Validation Accuracy:   0.7289 \n",
      "\n",
      "epoch 87\n"
     ]
    },
    {
     "name": "stderr",
     "output_type": "stream",
     "text": [
      "239it [00:00, 453.52it/s]\n"
     ]
    },
    {
     "name": "stdout",
     "output_type": "stream",
     "text": [
      "save best_model...\n",
      "Epoch: 87 \n",
      "Train_loss: 0.8125 Train Accuracy: 0.7599 \n",
      "Validation_loss:   0.8243 Validation Accuracy:   0.7289 \n",
      "\n",
      "epoch 88\n"
     ]
    },
    {
     "name": "stderr",
     "output_type": "stream",
     "text": [
      "239it [00:00, 453.51it/s]\n"
     ]
    },
    {
     "name": "stdout",
     "output_type": "stream",
     "text": [
      "save best_model...\n",
      "Epoch: 88 \n",
      "Train_loss: 0.8118 Train Accuracy: 0.7607 \n",
      "Validation_loss:   0.824 Validation Accuracy:   0.7289 \n",
      "\n",
      "epoch 89\n"
     ]
    },
    {
     "name": "stderr",
     "output_type": "stream",
     "text": [
      "239it [00:00, 452.65it/s]\n"
     ]
    },
    {
     "name": "stdout",
     "output_type": "stream",
     "text": [
      "save best_model...\n",
      "Epoch: 89 \n",
      "Train_loss: 0.8111 Train Accuracy: 0.7612 \n",
      "Validation_loss:   0.8238 Validation Accuracy:   0.7289 \n",
      "\n",
      "epoch 90\n"
     ]
    },
    {
     "name": "stderr",
     "output_type": "stream",
     "text": [
      "239it [00:00, 453.51it/s]\n"
     ]
    },
    {
     "name": "stdout",
     "output_type": "stream",
     "text": [
      "save best_model...\n",
      "Epoch: 90 \n",
      "Train_loss: 0.8104 Train Accuracy: 0.7623 \n",
      "Validation_loss:   0.8235 Validation Accuracy:   0.7333 \n",
      "\n",
      "epoch 91\n"
     ]
    },
    {
     "name": "stderr",
     "output_type": "stream",
     "text": [
      "239it [00:00, 452.65it/s]\n"
     ]
    },
    {
     "name": "stdout",
     "output_type": "stream",
     "text": [
      "save best_model...\n",
      "Epoch: 91 \n",
      "Train_loss: 0.8098 Train Accuracy: 0.7628 \n",
      "Validation_loss:   0.8232 Validation Accuracy:   0.7333 \n",
      "\n",
      "epoch 92\n"
     ]
    },
    {
     "name": "stderr",
     "output_type": "stream",
     "text": [
      "239it [00:00, 450.09it/s]\n"
     ]
    },
    {
     "name": "stdout",
     "output_type": "stream",
     "text": [
      "save best_model...\n",
      "Epoch: 92 \n",
      "Train_loss: 0.8092 Train Accuracy: 0.7633 \n",
      "Validation_loss:   0.823 Validation Accuracy:   0.7333 \n",
      "\n",
      "epoch 93\n"
     ]
    },
    {
     "name": "stderr",
     "output_type": "stream",
     "text": [
      "239it [00:00, 440.15it/s]\n"
     ]
    },
    {
     "name": "stdout",
     "output_type": "stream",
     "text": [
      "save best_model...\n",
      "Epoch: 93 \n",
      "Train_loss: 0.8085 Train Accuracy: 0.7644 \n",
      "Validation_loss:   0.8228 Validation Accuracy:   0.7333 \n",
      "\n",
      "epoch 94\n"
     ]
    },
    {
     "name": "stderr",
     "output_type": "stream",
     "text": [
      "239it [00:00, 435.34it/s]\n"
     ]
    },
    {
     "name": "stdout",
     "output_type": "stream",
     "text": [
      "save best_model...\n",
      "Epoch: 94 \n",
      "Train_loss: 0.8079 Train Accuracy: 0.7646 \n",
      "Validation_loss:   0.8226 Validation Accuracy:   0.7378 \n",
      "\n",
      "epoch 95\n"
     ]
    },
    {
     "name": "stderr",
     "output_type": "stream",
     "text": [
      "239it [00:00, 422.99it/s]\n"
     ]
    },
    {
     "name": "stdout",
     "output_type": "stream",
     "text": [
      "save best_model...\n",
      "Epoch: 95 \n",
      "Train_loss: 0.8073 Train Accuracy: 0.7646 \n",
      "Validation_loss:   0.8224 Validation Accuracy:   0.7333 \n",
      "\n",
      "epoch 96\n"
     ]
    },
    {
     "name": "stderr",
     "output_type": "stream",
     "text": [
      "239it [00:00, 439.34it/s]\n"
     ]
    },
    {
     "name": "stdout",
     "output_type": "stream",
     "text": [
      "save best_model...\n",
      "Epoch: 96 \n",
      "Train_loss: 0.8067 Train Accuracy: 0.7657 \n",
      "Validation_loss:   0.8222 Validation Accuracy:   0.7333 \n",
      "\n",
      "epoch 97\n"
     ]
    },
    {
     "name": "stderr",
     "output_type": "stream",
     "text": [
      "239it [00:00, 450.95it/s]\n"
     ]
    },
    {
     "name": "stdout",
     "output_type": "stream",
     "text": [
      "save best_model...\n",
      "Epoch: 97 \n",
      "Train_loss: 0.8062 Train Accuracy: 0.767 \n",
      "Validation_loss:   0.822 Validation Accuracy:   0.7333 \n",
      "\n",
      "epoch 98\n"
     ]
    },
    {
     "name": "stderr",
     "output_type": "stream",
     "text": [
      "239it [00:00, 448.41it/s]\n"
     ]
    },
    {
     "name": "stdout",
     "output_type": "stream",
     "text": [
      "save best_model...\n",
      "Epoch: 98 \n",
      "Train_loss: 0.8056 Train Accuracy: 0.7686 \n",
      "Validation_loss:   0.8218 Validation Accuracy:   0.7333 \n",
      "\n",
      "epoch 99\n"
     ]
    },
    {
     "name": "stderr",
     "output_type": "stream",
     "text": [
      "239it [00:00, 445.90it/s]"
     ]
    },
    {
     "name": "stdout",
     "output_type": "stream",
     "text": [
      "save best_model...\n",
      "Epoch: 99 \n",
      "Train_loss: 0.805 Train Accuracy: 0.7686 \n",
      "Validation_loss:   0.8216 Validation Accuracy:   0.7333 \n",
      "\n"
     ]
    },
    {
     "name": "stderr",
     "output_type": "stream",
     "text": [
      "\n"
     ]
    }
   ],
   "source": [
    "from tqdm import tqdm\n",
    "\n",
    "# Define the function to calculate accuracy\n",
    "def calculate_accuracy(y_true, y_pred):\n",
    "    _, predicted = torch.max(y_pred, 1)\n",
    "    correct = (predicted == y_true).float()\n",
    "    acc = correct.sum() / len(correct)\n",
    "    return acc\n",
    "\n",
    "# Define batch size\n",
    "batch_size = 16\n",
    "\n",
    "# Epochs\n",
    "num_epochs = 100\n",
    "\n",
    "# Split train dataset into mini-batches\n",
    "X_train_mini_batches = torch.split(tfidfX_train, batch_size)\n",
    "Y_train_mini_batches = torch.split(Y_train, batch_size)\n",
    "\n",
    "# Initialize lists to store losses and accuracies\n",
    "train_losses = []\n",
    "train_accuracies = []\n",
    "val_losses = []\n",
    "val_accuracies = []\n",
    "min_loss = float('inf')\n",
    "\n",
    "# Start training\n",
    "for epoch in range(num_epochs):\n",
    "    print('epoch', epoch)\n",
    "    epoch_loss = 0\n",
    "    epoch_accuracy = 0\n",
    "\n",
    "    for X_train_mini_batch, Y_train_mini_batch in tqdm(zip(X_train_mini_batches, Y_train_mini_batches)):\n",
    "        X_train_mini_batch = X_train_mini_batch.to(device)\n",
    "        Y_train_mini_batch = Y_train_mini_batch.to(device)\n",
    "\n",
    "        # Forward pass to get output\n",
    "        train_prediction = first_model(X_train_mini_batch.float())\n",
    "\n",
    "        # Calculate Loss\n",
    "        train_loss = criterion(train_prediction, Y_train_mini_batch.long())  # Convert Y_train_mini_batch to long type\n",
    "\n",
    "        # Clearing up accumulated gradients\n",
    "        optimizer.zero_grad()\n",
    "\n",
    "        # Getting gradients\n",
    "        train_loss.backward()\n",
    "\n",
    "        # Updating parameters\n",
    "        optimizer.step()\n",
    "\n",
    "        # Add each mini batch's loss\n",
    "        epoch_loss += train_loss.item()\n",
    "\n",
    "        # Add each mini batch's accuracy\n",
    "        epoch_accuracy += calculate_accuracy(Y_train_mini_batch, train_prediction)\n",
    "\n",
    "    # Print loss and accuracy for some epochs\n",
    "    if epoch % 1 == 0:\n",
    "        tfidfX_val = tfidfX_val.to(device)\n",
    "        Y_val = Y_val.to(device)\n",
    "\n",
    "        # Forward pass to get output\n",
    "        val_prediction = first_model(tfidfX_val.float())\n",
    "\n",
    "        # Calculate Loss\n",
    "        val_loss = criterion(val_prediction, Y_val.long())  # Convert Y_val to long type\n",
    "\n",
    "        epoch_loss /= len(X_train_mini_batches)\n",
    "        epoch_accuracy /= len(X_train_mini_batches)\n",
    "        val_losses.append(val_loss.item())\n",
    "        train_losses.append(epoch_loss)\n",
    "        train_accuracies.append(epoch_accuracy)\n",
    "        val_accuracies.append(calculate_accuracy(Y_val, val_prediction))\n",
    "\n",
    "        if val_loss.item() < min_loss:\n",
    "            min_loss = val_loss.item()\n",
    "            torch.save(first_model.state_dict(), 'best_model.pt')\n",
    "            print('save best_model...')\n",
    "\n",
    "        print(\"Epoch:\", epoch, \"\\n\"\n",
    "              \"Train_loss:\", round(epoch_loss, 4), \"Train Accuracy:\", round(epoch_accuracy.item(), 4), \"\\n\"\n",
    "              \"Validation_loss:  \", round(val_loss.item(), 4), \"Validation Accuracy:  \", round(val_accuracies[-1].item(), 4), \"\\n\")\n"
   ]
  },
  {
   "cell_type": "code",
   "execution_count": 15,
   "metadata": {
    "colab": {
     "base_uri": "https://localhost:8080/",
     "height": 683
    },
    "id": "17e7nw1toxUd",
    "outputId": "ec3373e5-6456-4005-c54b-fef84f6509dd",
    "tags": []
   },
   "outputs": [
    {
     "data": {
      "image/png": "[encoded data removed]",
      "text/plain": [
       "<Figure size 800x800 with 1 Axes>"
      ]
     },
     "metadata": {},
     "output_type": "display_data"
    }
   ],
   "source": [
    "import matplotlib.pyplot as plt\n",
    "from matplotlib.pyplot import figure\n",
    "\n",
    "figure(figsize=(8,8))\n",
    "plt.plot(train_losses)\n",
    "plt.plot(val_losses)\n",
    "plt.title('First Model Loss')\n",
    "plt.ylabel('Loss')\n",
    "plt.xlabel('Epoch')\n",
    "plt.legend(['train', 'val'], loc='upper right')\n",
    "plt.show()"
   ]
  },
  {
   "cell_type": "code",
   "execution_count": 16,
   "metadata": {
    "id": "oGLcRckdoyNi",
    "tags": []
   },
   "outputs": [],
   "source": [
    "model = FFNN(input_dim, hidden_dim_1, hidden_dim_2, output_dim).to(device)"
   ]
  },
  {
   "cell_type": "code",
   "execution_count": 17,
   "metadata": {
    "colab": {
     "base_uri": "https://localhost:8080/"
    },
    "id": "qeeE636jo3VY",
    "outputId": "3558ca02-4187-4ab3-bb86-a4704f5edc71",
    "tags": []
   },
   "outputs": [
    {
     "data": {
      "text/plain": [
       "FFNN(\n",
       "  (layer_1): Linear(in_features=1000, out_features=1024, bias=True)\n",
       "  (relu_1): ReLU()\n",
       "  (layer_2): Linear(in_features=1024, out_features=512, bias=True)\n",
       "  (relu_2): ReLU()\n",
       "  (layer_3): Linear(in_features=512, out_features=3, bias=True)\n",
       ")"
      ]
     },
     "execution_count": 17,
     "metadata": {},
     "output_type": "execute_result"
    }
   ],
   "source": [
    "model.load_state_dict(torch.load('best_model.pt'))\n",
    "model.eval()"
   ]
  },
  {
   "cell_type": "code",
   "execution_count": 18,
   "metadata": {
    "colab": {
     "base_uri": "https://localhost:8080/"
    },
    "id": "4EmUJexBo5IA",
    "outputId": "170394ee-686f-4093-ef56-deaef0582a1b",
    "tags": []
   },
   "outputs": [
    {
     "name": "stdout",
     "output_type": "stream",
     "text": [
      "Test Accuracy: 0.7044 \n",
      "\n"
     ]
    }
   ],
   "source": [
    "#ลองทำนายจากชุดเทส\n",
    "tfidfX_test = tfidfX_test.to(device)\n",
    "Y_test = Y_test.to(device)\n",
    "\n",
    "# Forward pass to get output\n",
    "model.eval()\n",
    "test_prediction = model.forward(tfidfX_test.float())\n",
    "test_prediction = torch.squeeze(test_prediction)\n",
    "\n",
    "#Calculate accuracy on test set\n",
    "test_accuracy = calculate_accuracy(Y_test,test_prediction)\n",
    "\n",
    "print(\"Test Accuracy:\",round(test_accuracy.item(),4), \"\\n\")"
   ]
  },
  {
   "cell_type": "code",
   "execution_count": 19,
   "metadata": {
    "colab": {
     "base_uri": "https://localhost:8080/"
    },
    "id": "eLQln5atyHK8",
    "outputId": "3d531c46-6500-4b47-efcc-36c4cf66c691",
    "tags": []
   },
   "outputs": [
    {
     "name": "stdout",
     "output_type": "stream",
     "text": [
      "Predicted Sentiment: Neutrally\n"
     ]
    }
   ],
   "source": [
    "# Preprocess the test text\n",
    "test_text = \"พอใช้ได้ ตามราคาค่ะ\"\n",
    "preprocessed_text = remove_duplicate_chars(test_text)\n",
    "\n",
    "# Convert preprocessed text into TF-IDF vector\n",
    "tfidf_vector = tfidf_vectorizer.transform([preprocessed_text])\n",
    "\n",
    "# Convert TF-IDF vector into PyTorch tensor\n",
    "tfidf_tensor = torch.tensor(tfidf_vector.toarray())\n",
    "\n",
    "# Move tensor to the appropriate device if GPU is available\n",
    "tfidf_tensor = tfidf_tensor.to(device)\n",
    "\n",
    "# Pass the tensor through the trained model to get the prediction\n",
    "with torch.no_grad():\n",
    "    model.eval()  # Set the model to evaluation mode\n",
    "    prediction = model(tfidf_tensor.float())\n",
    "\n",
    "# Convert prediction to human-readable label\n",
    "_, predicted_label = torch.max(prediction, 1)\n",
    "\n",
    "# Decode the predicted label using the label encoder\n",
    "predicted_sentiment = encoder.classes_[predicted_label.item()]\n",
    "\n",
    "print(\"Predicted Sentiment:\", predicted_sentiment)"
   ]
  }
 ],
 "metadata": {
  "accelerator": "GPU",
  "colab": {
   "gpuType": "T4",
   "provenance": []
  },
  "kernelspec": {
   "display_name": "Python 3 (ipykernel)",
   "language": "python",
   "name": "python3"
  },
  "language_info": {
   "codemirror_mode": {
    "name": "ipython",
    "version": 3
   },
   "file_extension": ".py",
   "mimetype": "text/x-python",
   "name": "python",
   "nbconvert_exporter": "python",
   "pygments_lexer": "ipython3",
   "version": "3.10.13"
  }
 },
 "nbformat": 4,
 "nbformat_minor": 4
}
