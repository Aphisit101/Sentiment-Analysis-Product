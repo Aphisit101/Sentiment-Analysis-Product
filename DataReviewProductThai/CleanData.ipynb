{
 "cells": [
  {
   "cell_type": "code",
   "execution_count": 6,
   "id": "0baf100d-fd3b-4762-a9ea-f3efdd28926f",
   "metadata": {},
   "outputs": [],
   "source": [
    "import pandas as pd\n",
    "import glob\n",
    "import time\n",
    "import re\n",
    "import os"
   ]
  },
  {
   "cell_type": "code",
   "execution_count": 55,
   "id": "62961a10-500d-4e7a-bbc7-005a0df21643",
   "metadata": {
    "tags": []
   },
   "outputs": [],
   "source": [
    "def remove_emoji(text):\n",
    "    pattern = re.compile(r'[^ก-๙\\s]')\n",
    "    emoji_pattern = re.compile(\"[\"\n",
    "                               \"\\U0001F600-\\U0001F64F\"  # emoticons\n",
    "                               \"\\U0001F300-\\U0001F5FF\"  # symbols & pictographs\n",
    "                               \"\\U0001F680-\\U0001F6FF\"  # transport & map symbols\n",
    "                               \"\\U0001F1E0-\\U0001F1FF\"  # flags (iOS)\n",
    "                               \"\\U00002500-\\U00002BEF\"  # chinese char\n",
    "                               \"\\U00002702-\\U000027B0\"\n",
    "                               \"\\U00002702-\\U000027B0\"\n",
    "                               \"\\U000024C2-\\U0001F251\"\n",
    "                               \"\\U0001f926-\\U0001f937\"\n",
    "                               \"\\U00010000-\\U0010ffff\"\n",
    "                               \"\\u2640-\\u2642\"\n",
    "                               \"\\u2600-\\u2B55\"\n",
    "                               \"\\u200d\"\n",
    "                               \"\\u23cf\"\n",
    "                               \"\\u23e9\"\n",
    "                               \"\\u231a\"\n",
    "                               \"\\ufe0f\"  # dingbats\n",
    "                               \"\\u3030\"\n",
    "                               \"]+\", flags=re.UNICODE)\n",
    "    cleaned_text = emoji_pattern.sub('', text)\n",
    "    cleaned_text = pattern.sub('', cleaned_text)\n",
    "    word_list = cleaned_text.split()  # แปลงข้อความเป็นลิสต์ของคำ\n",
    "    unique_words = []  # สร้างลิสต์เพื่อเก็บคำที่ไม่ซ้ำ\n",
    "    for word in word_list:\n",
    "        if word not in unique_words:\n",
    "            unique_words.append(word)\n",
    "    cleaned_text = ' '.join(unique_words)  # แปลงกลับเป็นข้อความ\n",
    "    return cleaned_text"
   ]
  },
  {
   "cell_type": "markdown",
   "id": "5beb4139-b17d-4bbe-a106-62ade1958639",
   "metadata": {},
   "source": [
    "5, 4 Star"
   ]
  },
  {
   "cell_type": "code",
   "execution_count": 58,
   "id": "98f2466c-c00c-403c-acd5-d339c1955216",
   "metadata": {},
   "outputs": [],
   "source": [
    "# Define the folder path\n",
    "folder_path = 'C:/Users/Gumpun/Sentiment-Analysis-System-for-Consumer-Products/DataReviewProductThai/5-star'\n",
    "\n",
    "# Get a list of all text files in the folder\n",
    "file_list = [file for file in glob.glob(folder_path + \"/*.txt\") if os.path.isfile(file)]\n",
    "\n",
    "# Create an empty list to store DataFrames\n",
    "dfs = []\n",
    "\n",
    "# Iterate over each text file\n",
    "for file_path in file_list:\n",
    "    # Read the text file into a DataFrame\n",
    "    five_star = pd.read_csv(file_path, delimiter=',', encoding='utf-8')  # Assuming files are comma-delimited\n",
    "    \n",
    "    # Remove emojis from the 'Message' column\n",
    "    five_star['Message'] = five_star['Message'].apply(remove_emoji)\n",
    "    \n",
    "    \n",
    "    # Append the DataFrame to the list\n",
    "    dfs.append(five_star)\n",
    "\n",
    "# Concatenate all DataFrames into a single DataFrame\n",
    "five_1500_messages = pd.concat(dfs, ignore_index=True)"
   ]
  },
  {
   "cell_type": "code",
   "execution_count": 60,
   "id": "15935046-503f-4e4e-96a1-ab0f0771b618",
   "metadata": {
    "tags": []
   },
   "outputs": [],
   "source": [
    "random_seed = int(time.time())"
   ]
  },
  {
   "cell_type": "code",
   "execution_count": 62,
   "id": "9392cf4b-9166-436b-ba70-c1c9a049df12",
   "metadata": {
    "tags": []
   },
   "outputs": [],
   "source": [
    "five_1500_messages = five_1500_messages.sample(n=1500, random_state=random_seed)"
   ]
  },
  {
   "cell_type": "code",
   "execution_count": 64,
   "id": "1a433262-9369-4316-85c5-a3d25963e2be",
   "metadata": {
    "tags": []
   },
   "outputs": [
    {
     "data": {
      "text/plain": [
       "3030                                          รองเท้านุ่ม\n",
       "198     คุณภาพดีๆๆๆๆๆๆๆๆๆๆๆๆๆๆๆๆๆๆๆๆๆๆๆๆๆๆๆๆๆๆๆๆๆๆๆๆๆๆ...\n",
       "4715    จัดส่งรวดเร็ว ห่อแพคสินค้าอย่างดี บีบเบิลหลายช...\n",
       "2069    รูปลักษณ์ภายนอกดูดีมาก แต่คุณภาพแย่มากๆๆๆๆๆบีบ...\n",
       "1859    ส่งเร็วตรงตามกำหนด วัน สินค้าครบ ถูกต้อง เรียบ...\n",
       "                              ...                        \n",
       "1921                           วัสดุดี ขนาดดี การออกแบบดี\n",
       "2868    สินค้าดี วัสดุนิ่ม สวมใส่สบายเท้า สีสวยพาสเทล ...\n",
       "331                         ได้รับสินค้าแล้วสวยคุ้มค่ามาก\n",
       "5282    ได้รับสินค้าตรงปกนะคะเรียบร้อยแล้วจ้าไว้โอกาสห...\n",
       "4651    ทางร้านจัดส่งรวดเร็วดีครับได้รับสินค้าแล้วขนส่...\n",
       "Name: Message, Length: 1500, dtype: object"
      ]
     },
     "execution_count": 64,
     "metadata": {},
     "output_type": "execute_result"
    }
   ],
   "source": [
    "five_1500_messages[\"Message\"]"
   ]
  },
  {
   "cell_type": "code",
   "execution_count": 66,
   "id": "3ffa6f40-f7a9-47c6-98f3-b5203df37725",
   "metadata": {
    "tags": []
   },
   "outputs": [],
   "source": [
    "# Specify the output text file path\n",
    "output_csv_path = 'C:/Users/Gumpun/Sentiment-Analysis-System-for-Consumer-Products/DataReviewProductThai/Positive.csv'\n",
    "\n",
    "# Save the 'Message' column of the DataFrame to a text file\n",
    "five_1500_messages.to_csv(output_csv_path, index=False)"
   ]
  },
  {
   "cell_type": "markdown",
   "id": "7dbf60fc-8928-4eba-8707-28212dfab83e",
   "metadata": {},
   "source": [
    "3 Star"
   ]
  },
  {
   "cell_type": "code",
   "execution_count": 69,
   "id": "ca4dbe77-0804-4d55-bc23-e399f71d4b32",
   "metadata": {},
   "outputs": [],
   "source": [
    "# Define the folder path\n",
    "folder_path = 'C:/Users/Gumpun/Sentiment-Analysis-System-for-Consumer-Products/DataReviewProductThai/3-star'\n",
    "\n",
    "# Get a list of all text files in the folder\n",
    "file_list = [file for file in glob.glob(folder_path + \"/*.txt\") if os.path.isfile(file)]\n",
    "\n",
    "# Create an empty list to store DataFrames\n",
    "dfs = []\n",
    "\n",
    "# Iterate over each text file\n",
    "for file_path in file_list:\n",
    "    # Read the text file into a DataFrame\n",
    "    three_star = pd.read_csv(file_path, delimiter=',', encoding='utf-8')  # Assuming files are comma-delimited\n",
    "    \n",
    "    # Remove emojis from the 'Message' column\n",
    "    three_star['Message'] = three_star['Message'].apply(remove_emoji)\n",
    "    \n",
    "    # Append the DataFrame to the list\n",
    "    dfs.append(three_star)\n",
    "\n",
    "# Concatenate all DataFrames into a single DataFrame\n",
    "three_1500_messages = pd.concat(dfs, ignore_index=True)"
   ]
  },
  {
   "cell_type": "code",
   "execution_count": 71,
   "id": "0f7b80ba-6f3c-4920-aac5-9c2d2b65d738",
   "metadata": {
    "tags": []
   },
   "outputs": [],
   "source": [
    "three_1500_messages = three_1500_messages.sample(n=1500, random_state=random_seed)"
   ]
  },
  {
   "cell_type": "code",
   "execution_count": 73,
   "id": "da903166-1182-47cb-a5b3-c64904630496",
   "metadata": {
    "tags": []
   },
   "outputs": [
    {
     "data": {
      "text/plain": [
       "1175                               เย็บไม่ดีไม่โพ้งริมผ้า\n",
       "670     เนื้อผ้าบางค่ะ งดใส่เสื้อในมีลายค่ะ ถ้าไม่อยาก...\n",
       "1126                                                ดีค่ะ\n",
       "1037                            ต้องบวกเพิ่มอีกไซร์จะพอดี\n",
       "954                                           ดีมากเลยค่ะ\n",
       "                              ...                        \n",
       "573                                         กระทะมีรอยบุบ\n",
       "76      เนื้อผ้าค่อนข้างบาง แต่ลายสวยงาม ตรงตามสีที่สั...\n",
       "1367                            เ็ย็บเข็มเดียว ขาดง่ายมาก\n",
       "100     มีให้เลือกสีหลากหลาย ผ้าเบาสบายในการเคลื่อนไหว...\n",
       "472     ผ้าสวยทรงสวยแต่เสียดายไซส์น้อยไปหน่อยค่ะสั่งใส...\n",
       "Name: Message, Length: 1500, dtype: object"
      ]
     },
     "execution_count": 73,
     "metadata": {},
     "output_type": "execute_result"
    }
   ],
   "source": [
    "three_1500_messages[\"Message\"]"
   ]
  },
  {
   "cell_type": "code",
   "execution_count": 75,
   "id": "abbfc63a-1917-4e5f-868b-c10b4c736c7d",
   "metadata": {
    "tags": []
   },
   "outputs": [],
   "source": [
    "# Specify the output text file path\n",
    "output_csv_path = 'C:/Users/Gumpun/Sentiment-Analysis-System-for-Consumer-Products/DataReviewProductThai/Neutrally.csv'\n",
    "\n",
    "# Save the 'Message' column of the DataFrame to a text file\n",
    "three_1500_messages.to_csv(output_csv_path, index=False)"
   ]
  },
  {
   "cell_type": "markdown",
   "id": "3c4f7cad-59e0-4707-a54f-bcce59cef1b2",
   "metadata": {},
   "source": [
    "2, 1 Star"
   ]
  },
  {
   "cell_type": "code",
   "execution_count": 78,
   "id": "35290322-b047-4201-9a52-3b879cc28cc8",
   "metadata": {
    "tags": []
   },
   "outputs": [],
   "source": [
    "# Define the folder path\n",
    "folder_path = 'C:/Users/Gumpun/Sentiment-Analysis-System-for-Consumer-Products/DataReviewProductThai/1-star'\n",
    "\n",
    "# Get a list of all text files in the folder\n",
    "file_list = [file for file in glob.glob(folder_path + \"/*.txt\") if os.path.isfile(file)]\n",
    "\n",
    "# Create an empty list to store DataFrames\n",
    "dfs = []\n",
    "\n",
    "# Iterate over each text file\n",
    "for file_path in file_list:\n",
    "    # Read the text file into a DataFrame\n",
    "    one_star = pd.read_csv(file_path, delimiter=',', encoding='utf-8')  # Assuming files are comma-delimited\n",
    "    \n",
    "    # Remove emojis from the 'Message' column\n",
    "    one_star['Message'] = one_star['Message'].apply(remove_emoji)\n",
    "    \n",
    "    # Append the DataFrame to the list\n",
    "    dfs.append(one_star)\n",
    "\n",
    "# Concatenate all DataFrames into a single DataFrame\n",
    "one_1500_messages = pd.concat(dfs, ignore_index=True)"
   ]
  },
  {
   "cell_type": "code",
   "execution_count": 80,
   "id": "91aa0b89-be3d-46c1-bda2-9cc9876b9db3",
   "metadata": {
    "tags": []
   },
   "outputs": [],
   "source": [
    "one_1500_messages = one_1500_messages.sample(n=1500, random_state=random_seed)"
   ]
  },
  {
   "cell_type": "code",
   "execution_count": 82,
   "id": "1f6d1e17-684f-4008-8c54-e15a9c418d35",
   "metadata": {
    "tags": []
   },
   "outputs": [
    {
     "data": {
      "text/plain": [
       "1304                                               เล็กไป\n",
       "757     เนื้อผ้าบางมาก คิดว่าเอาเศษมุ้งมาทำ คือบางจริง...\n",
       "750      ไซส์ไม่ตรงตามที่แจ้ง ส่งสินค้ามาไม่ถูกตามที่สั่ง\n",
       "1425                    สั่งสีฟ้านะครับผมไม่ได้สั่งสีอื่น\n",
       "840     วัสดุผ้าเนื้อไม่บางค่ะใช้ได้ ขนาดเล็กไม่นิดค่ะ...\n",
       "                              ...                        \n",
       "1308    ส่งมาไซสีเดียวทั้ง ตัว สั่งไป ไซส์ ตังเล็กมากเ...\n",
       "707     ดีนุ่มใส่สบาย วัสดุนุ่ม ขนาดพอดี การออกแบบสวยด...\n",
       "592     แพ็คมาไม่ดี กระทะบุบ มีรอยถลอก นูน สีถลอก กระท...\n",
       "400                                 ได้ของไม่ตรงปกเลยครับ\n",
       "406     สินค้าไม่ตรงปกเลยซื้อกางเกงสองตัวแต่คนละแบบกัน...\n",
       "Name: Message, Length: 1500, dtype: object"
      ]
     },
     "execution_count": 82,
     "metadata": {},
     "output_type": "execute_result"
    }
   ],
   "source": [
    "one_1500_messages[\"Message\"]"
   ]
  },
  {
   "cell_type": "code",
   "execution_count": 84,
   "id": "5627872d-ba6f-46dd-aac3-fd4364f46c0f",
   "metadata": {
    "tags": []
   },
   "outputs": [],
   "source": [
    "# Specify the output text file path\n",
    "output_csv_path = 'C:/Users/Gumpun/Sentiment-Analysis-System-for-Consumer-Products/DataReviewProductThai/Negative.csv'\n",
    "\n",
    "# Save the 'Message' column of the DataFrame to a text file\n",
    "one_1500_messages.to_csv(output_csv_path, index=False)"
   ]
  }
 ],
 "metadata": {
  "kernelspec": {
   "display_name": "Python 3 (ipykernel)",
   "language": "python",
   "name": "python3"
  },
  "language_info": {
   "codemirror_mode": {
    "name": "ipython",
    "version": 3
   },
   "file_extension": ".py",
   "mimetype": "text/x-python",
   "name": "python",
   "nbconvert_exporter": "python",
   "pygments_lexer": "ipython3",
   "version": "3.10.13"
  }
 },
 "nbformat": 4,
 "nbformat_minor": 5
}
